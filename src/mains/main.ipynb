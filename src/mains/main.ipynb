{
 "cells": [
  {
   "cell_type": "code",
   "execution_count": 1,
   "metadata": {},
   "outputs": [],
   "source": [
    "import sys  \n",
    "sys.path.insert(0, '../../build/lib') # pyaf location\n",
    "sys.path.insert(0, '../../py_aff3ct/build/lib') # py_aff3ct location\n",
    "import py_aff3ct\n",
    "import pyaf"
   ]
  },
  {
   "cell_type": "code",
   "execution_count": null,
   "metadata": {},
   "outputs": [],
   "source": [
    "K = 1024\n",
    "N = 3*K\n",
    "\n",
    "osf   = 2\n",
    "alpha = 0.7\n",
    "grp_delay = 20\n",
    "\n",
    "src = py_aff3ct.module.source.Source_random(N)\n",
    "enc = py_aff3ct.module.encoder.Encoder_repetition_sys(K,N)\n",
    "mod = py_aff3ct.module.modem.Modem_BPSK_fast(N)\n",
    "h   = pyaf.filter.Filter_root_raised_cosine.synthetize(alpha,osf,grp_delay)\n",
    "flt = pyaf.filter.Filter_UPFIR(N,h,osf)"
   ]
  },
  {
   "cell_type": "code",
   "execution_count": null,
   "metadata": {},
   "outputs": [],
   "source": []
  }
 ],
 "metadata": {
  "interpreter": {
   "hash": "aee8b7b246df8f9039afb4144a1f6fd8d2ca17a180786b69acc140d282b71a49"
  },
  "kernelspec": {
   "display_name": "Python 3.9.12 64-bit",
   "language": "python",
   "name": "python3"
  },
  "language_info": {
   "codemirror_mode": {
    "name": "ipython",
    "version": 3
   },
   "file_extension": ".py",
   "mimetype": "text/x-python",
   "name": "python",
   "nbconvert_exporter": "python",
   "pygments_lexer": "ipython3",
   "version": "3.9.12"
  },
  "orig_nbformat": 4
 },
 "nbformat": 4,
 "nbformat_minor": 2
}
